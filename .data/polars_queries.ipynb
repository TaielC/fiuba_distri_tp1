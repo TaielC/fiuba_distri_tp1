{
 "cells": [
  {
   "cell_type": "code",
   "execution_count": 3,
   "metadata": {},
   "outputs": [],
   "source": [
    "# !pip install polars geopy\n",
    "import polars as pl\n",
    "from geopy.distance import distance as geodesic_distance\n",
    "from IPython.display import display, Markdown\n",
    "\n",
    "def md(text):\n",
    "    display(Markdown(text))"
   ]
  },
  {
   "cell_type": "code",
   "execution_count": 48,
   "metadata": {},
   "outputs": [],
   "source": [
    "# CONST\n",
    "MIN_STOPS = 3\n",
    "\n",
    "itineraries_cols = [\n",
    "    \"legId\",\n",
    "    \"startingAirport\",\n",
    "    \"destinationAirport\",\n",
    "    \"travelDuration\",\n",
    "    \"totalFare\",\n",
    "    \"totalTravelDistance\",\n",
    "    \"segmentsArrivalAirportCode\",\n",
    "]\n",
    "sample = pl.read_csv(\"itineraries_100k.csv\", separator=\",\").select(\n",
    "    itineraries_cols\n",
    ")\n",
    "\n",
    "\n",
    "airports = pl.read_csv(\"airports-codepublic.csv\", separator=\";\").select(\n",
    "    [\"Airport Code\", \"Latitude\", \"Longitude\"]\n",
    ")\n",
    "\n",
    "\n",
    "def run_query(query: callable, *args, batch_size=None):\n",
    "    \"\"\"\n",
    "    Run a query on itineraries with args and\n",
    "    batch_size mb of memory\n",
    "    \"\"\"\n",
    "    if batch_size is not None:\n",
    "        row_size = sample.estimated_size('mb') / sample.height\n",
    "        batch_size = int(batch_size / row_size)\n",
    "        print(f\"Rows per batch: {batch_size}\")\n",
    "        !head -n {batch_size} itineraries.csv > itineraries_tmp.csv\n",
    "        file_name = \"itineraries_tmp.csv\"\n",
    "    else:\n",
    "        file_name = \"itineraries.csv\"\n",
    "    res: pl.LazyFrame = query(\n",
    "        pl.scan_csv(file_name, separator=\",\").select(\n",
    "            itineraries_cols\n",
    "        ),\n",
    "        *args,\n",
    "    )\n",
    "    return res\n",
    "\n",
    "def dump_query(query: callable, *args, batch_size=None):\n",
    "    run_query(query, *args, batch_size=batch_size).sink_csv(query.__name__ + \".csv\")\n",
    "\n",
    "def collect_query(query: callable, *args, batch_size=None):\n",
    "    return run_query(query, *args, batch_size=batch_size).collect()\n",
    "\n",
    "def count_stops(segments: str):\n",
    "    return len(segments.split(\"||\")) - 1\n",
    "\n",
    "def filter_by_stops(itineraries: pl.DataFrame, min_stops: int):\n",
    "    \"\"\"\n",
    "    Filter itineraries by minimum number of stops\n",
    "    \"\"\"\n",
    "    return itineraries.filter(\n",
    "        pl.col(\"segmentsArrivalAirportCode\").map_elements(count_stops, return_dtype=int) >= min_stops\n",
    "    )\n",
    "\n",
    "def remove_last_stop(segments: str):\n",
    "    return \",\".join(segments.split(\"||\")[:-1]) or \"\"\n",
    "def add_stops_codes(itineraries: pl.DataFrame):\n",
    "    \"\"\"\n",
    "    Add a column with the list of stops codes\n",
    "    \"\"\"\n",
    "    return itineraries.with_columns(\n",
    "        pl.col(\"segmentsArrivalAirportCode\")\n",
    "        .map_elements(remove_last_stop, return_dtype=str)\n",
    "        .alias(\"stopsAirportCode\")\n",
    "    )"
   ]
  },
  {
   "cell_type": "code",
   "execution_count": 49,
   "metadata": {},
   "outputs": [
    {
     "data": {
      "text/markdown": [
       "\n",
       "- **Query 1**\n",
       "\n",
       "Obtener el ID, trayecto, precio y escalas de vuelos con 3 o más escalas.\n"
      ],
      "text/plain": [
       "<IPython.core.display.Markdown object>"
      ]
     },
     "metadata": {},
     "output_type": "display_data"
    }
   ],
   "source": [
    "md(f\"\"\"\n",
    "- **Query 1**\n",
    "\n",
    "Obtener el ID, trayecto, precio y escalas de vuelos con {MIN_STOPS} o más escalas.\n",
    "\"\"\")"
   ]
  },
  {
   "cell_type": "code",
   "execution_count": 50,
   "metadata": {},
   "outputs": [],
   "source": [
    "def query1(itineraries: pl.DataFrame, min_stops: int = MIN_STOPS):\n",
    "    print(f\"Query 1: {min_stops} stops\")\n",
    "    return (\n",
    "        itineraries.pipe(filter_by_stops, min_stops)\n",
    "        .pipe(add_stops_codes)\n",
    "        .select(\n",
    "            [\n",
    "                \"legId\",\n",
    "                \"startingAirport\",\n",
    "                \"destinationAirport\",\n",
    "                \"totalFare\",\n",
    "                \"stopsAirportCode\",\n",
    "            ]\n",
    "        )\n",
    "    )"
   ]
  },
  {
   "cell_type": "code",
   "execution_count": 55,
   "metadata": {},
   "outputs": [
    {
     "name": "stdout",
     "output_type": "stream",
     "text": [
      "Query 1: 3 stops\n"
     ]
    }
   ],
   "source": [
    "dump_query(query1)"
   ]
  },
  {
   "cell_type": "code",
   "execution_count": 38,
   "metadata": {},
   "outputs": [
    {
     "data": {
      "text/markdown": [
       "\n",
       "- **Query 2**\n",
       "\n",
       "Obtener el ID y trayecto de vuelos cuya deistancia total\n",
       "sea mayor al doble de la distancia directa entre puntos\n",
       "origen-destino.\n"
      ],
      "text/plain": [
       "<IPython.core.display.Markdown object>"
      ]
     },
     "metadata": {},
     "output_type": "display_data"
    }
   ],
   "source": [
    "md(\n",
    "    f\"\"\"\n",
    "- **Query 2**\n",
    "\n",
    "Obtener el ID y trayecto de vuelos cuya deistancia total\n",
    "sea mayor al doble de la distancia directa entre puntos\n",
    "origen-destino.\n",
    "\"\"\"\n",
    ")"
   ]
  },
  {
   "cell_type": "code",
   "execution_count": 53,
   "metadata": {},
   "outputs": [],
   "source": [
    "def query2(itineraries: pl.DataFrame):\n",
    "    def calculate_distance(row: pl.Struct):\n",
    "        lat_start = row[\"Latitude_start\"]\n",
    "        lon_start = row[\"Longitude_start\"]\n",
    "        lat_dest = row[\"Latitude_dest\"]\n",
    "        lon_dest = row[\"Longitude_dest\"]\n",
    "        return geodesic_distance(\n",
    "            (lat_start, lon_start), (lat_dest, lon_dest)\n",
    "        ).km\n",
    "\n",
    "    airports_tmp = pl.scan_csv(\"airports-codepublic.csv\", separator=\";\").select(\n",
    "            [\"Airport Code\", \"Latitude\", \"Longitude\"]\n",
    "        )\n",
    "    return itineraries.join(\n",
    "        airports_tmp,\n",
    "        left_on=\"startingAirport\",\n",
    "        right_on=\"Airport Code\",\n",
    "        how=\"inner\",\n",
    "        ).with_columns(\n",
    "            pl.col(\"Latitude\").alias(\"Latitude_start\"),\n",
    "            pl.col(\"Longitude\").alias(\"Longitude_start\"),\n",
    "        ).join(\n",
    "        airports_tmp,\n",
    "        left_on=\"destinationAirport\",\n",
    "        right_on=\"Airport Code\",\n",
    "        how=\"inner\",\n",
    "    ).with_columns(\n",
    "        pl.col(\"Latitude\").alias(\"Latitude_dest\"),\n",
    "        pl.col(\"Longitude\").alias(\"Longitude_dest\"),\n",
    "    ).with_columns(\n",
    "        pl.struct([\n",
    "            \"Latitude_start\",\n",
    "            \"Longitude_start\",\n",
    "            \"Latitude_dest\",\n",
    "            \"Longitude_dest\",\n",
    "        ]).map_elements(calculate_distance, return_dtype=float).alias(\"distance\")\n",
    "    ).filter(pl.col(\"distance\") * 2 < pl.col(\"totalTravelDistance\")).select(\n",
    "        [\"legId\", \"startingAirport\", \"destinationAirport\"]\n",
    "    )"
   ]
  },
  {
   "cell_type": "code",
   "execution_count": 54,
   "metadata": {},
   "outputs": [
    {
     "name": "stdout",
     "output_type": "stream",
     "text": [
      "Rows per batch: 96986\n"
     ]
    }
   ],
   "source": [
    "dump_query(query2, batch_size=10)"
   ]
  },
  {
   "cell_type": "code",
   "execution_count": 23,
   "metadata": {},
   "outputs": [
    {
     "data": {
      "text/markdown": [
       "- Query 3\n",
       "\n",
       "Obtener el ID, trayecto, escalas y duración para los 2 vuelos\n",
       "de cada trayecto con menor duración entre todos los vuelos de\n",
       "3 escalas o más.\n"
      ],
      "text/plain": [
       "<IPython.core.display.Markdown object>"
      ]
     },
     "metadata": {},
     "output_type": "display_data"
    }
   ],
   "source": [
    "md(f\"\"\"- Query 3\n",
    "\n",
    "Obtener el ID, trayecto, escalas y duración para los 2 vuelos\n",
    "de cada trayecto con menor duración entre todos los vuelos de\n",
    "{MIN_STOPS} escalas o más.\n",
    "\"\"\")"
   ]
  },
  {
   "cell_type": "code",
   "execution_count": 51,
   "metadata": {},
   "outputs": [],
   "source": [
    "def query3(itineraries: pl.DataFrame, min_stops: int = MIN_STOPS):\n",
    "    return (\n",
    "        itineraries.pipe(filter_by_stops, min_stops)\n",
    "        .pipe(add_stops_codes)\n",
    "        .select(  # try commenting this line\n",
    "            [\n",
    "                \"legId\",\n",
    "                \"startingAirport\",\n",
    "                \"destinationAirport\",\n",
    "                \"travelDuration\",\n",
    "                \"stopsAirportCode\",\n",
    "            ]\n",
    "        )\n",
    "        .group_by([\"startingAirport\", \"destinationAirport\"])\n",
    "        .agg([pl.min(\"travelDuration\")])\n",
    "    )"
   ]
  },
  {
   "cell_type": "code",
   "execution_count": 53,
   "metadata": {},
   "outputs": [
    {
     "data": {
      "text/html": [
       "<div><style>\n",
       ".dataframe > thead > tr > th,\n",
       ".dataframe > tbody > tr > td {\n",
       "  text-align: right;\n",
       "  white-space: pre-wrap;\n",
       "}\n",
       "</style>\n",
       "<small>shape: (0, 3)</small><table border=\"1\" class=\"dataframe\"><thead><tr><th>startingAirport</th><th>destinationAirport</th><th>travelDuration</th></tr><tr><td>str</td><td>str</td><td>str</td></tr></thead><tbody></tbody></table></div>"
      ],
      "text/plain": [
       "shape: (0, 3)\n",
       "┌─────────────────┬────────────────────┬────────────────┐\n",
       "│ startingAirport ┆ destinationAirport ┆ travelDuration │\n",
       "│ ---             ┆ ---                ┆ ---            │\n",
       "│ str             ┆ str                ┆ str            │\n",
       "╞═════════════════╪════════════════════╪════════════════╡\n",
       "└─────────────────┴────────────────────┴────────────────┘"
      ]
     },
     "execution_count": 53,
     "metadata": {},
     "output_type": "execute_result"
    }
   ],
   "source": [
    "res = collect_query(query3)\n",
    "res.head(4)"
   ]
  },
  {
   "cell_type": "code",
   "execution_count": null,
   "metadata": {},
   "outputs": [],
   "source": [
    "md(f\"\"\"- Query 4\n",
    "\n",
    "El precio promedio y máximo trayecto de los\n",
    "vuelos con precio mayor a la media general de precios.\n",
    "\"\"\")"
   ]
  },
  {
   "cell_type": "code",
   "execution_count": null,
   "metadata": {},
   "outputs": [],
   "source": []
  }
 ],
 "metadata": {
  "kernelspec": {
   "display_name": ".venv",
   "language": "python",
   "name": "python3"
  },
  "language_info": {
   "codemirror_mode": {
    "name": "ipython",
    "version": 3
   },
   "file_extension": ".py",
   "mimetype": "text/x-python",
   "name": "python",
   "nbconvert_exporter": "python",
   "pygments_lexer": "ipython3",
   "version": "3.10.8"
  },
  "orig_nbformat": 4
 },
 "nbformat": 4,
 "nbformat_minor": 2
}
