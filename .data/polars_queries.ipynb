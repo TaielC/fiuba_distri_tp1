{
 "cells": [
  {
   "cell_type": "code",
   "execution_count": 2,
   "metadata": {},
   "outputs": [],
   "source": [
    "# !pip install polars geopy\n",
    "import polars as pl\n",
    "from geopy.distance import distance as geodesic_distance\n",
    "from IPython.display import display, Markdown\n",
    "\n",
    "def md(text):\n",
    "    display(Markdown(text))"
   ]
  },
  {
   "cell_type": "code",
   "execution_count": 3,
   "metadata": {},
   "outputs": [],
   "source": [
    "# CONST\n",
    "MIN_STOPS = 3\n",
    "\n",
    "itineraries_cols = [\n",
    "    \"legId\",\n",
    "    \"startingAirport\",\n",
    "    \"destinationAirport\",\n",
    "    \"travelDuration\",\n",
    "    \"totalFare\",\n",
    "    \"totalTravelDistance\",\n",
    "    \"segmentsArrivalAirportCode\",\n",
    "]\n",
    "sample = pl.read_csv(\"itineraries_100k.csv\", separator=\",\").select(\n",
    "    itineraries_cols\n",
    ")\n",
    "# !wc -l itineraries.csv\n",
    "total_rows = 82138754\n",
    "\n",
    "\n",
    "def run_query(query: callable, *args, dataset_size=None):\n",
    "    \"\"\"\n",
    "    Run a query on itineraries with args and\n",
    "    dataset_size mb of memory\n",
    "    \"\"\"\n",
    "    if dataset_size is not None:\n",
    "        row_size = sample.estimated_size('mb') / sample.height\n",
    "        dataset_rows = int(dataset_size / row_size)\n",
    "        print(f\"Rows in dataset: {dataset_rows} ({dataset_rows / total_rows * 100:.2f}%)\")\n",
    "        !head -n {dataset_rows} itineraries.csv > itineraries_tmp.csv\n",
    "        file_name = \"itineraries_tmp.csv\"\n",
    "    else:\n",
    "        file_name = \"itineraries.csv\"\n",
    "    res: pl.LazyFrame = query(\n",
    "        pl.scan_csv(file_name, separator=\",\").select(\n",
    "            itineraries_cols\n",
    "        ),\n",
    "        *args,\n",
    "    )\n",
    "    return res\n",
    "\n",
    "def dump_query(query: callable, *args, dataset_size=None):\n",
    "    run_query(query, *args, dataset_size=dataset_size).sink_csv(query.__name__ + \".csv\")\n",
    "\n",
    "def collect_query(query: callable, *args, dataset_size=None):\n",
    "    return run_query(query, *args, dataset_size=dataset_size).collect()\n",
    "\n",
    "def count_stops(segments: str):\n",
    "    return len(segments.split(\"||\")) - 1\n",
    "\n",
    "def filter_by_stops(itineraries: pl.DataFrame, min_stops: int):\n",
    "    \"\"\"\n",
    "    Filter itineraries by minimum number of stops\n",
    "    \"\"\"\n",
    "    return itineraries.filter(\n",
    "        pl.col(\"segmentsArrivalAirportCode\").map_elements(count_stops, return_dtype=int) >= min_stops\n",
    "    )\n",
    "\n",
    "def remove_last_stop(segments: str):\n",
    "    return \",\".join(segments.split(\"||\")[:-1]) or \"\"\n",
    "def add_stops_codes(itineraries: pl.DataFrame):\n",
    "    \"\"\"\n",
    "    Add a column with the list of stops codes\n",
    "    \"\"\"\n",
    "    return itineraries.with_columns(\n",
    "        pl.col(\"segmentsArrivalAirportCode\")\n",
    "        .map_elements(remove_last_stop, return_dtype=str)\n",
    "        .alias(\"stopsAirportCode\")\n",
    "    )"
   ]
  },
  {
   "cell_type": "code",
   "execution_count": 4,
   "metadata": {},
   "outputs": [
    {
     "data": {
      "text/markdown": [
       "\n",
       "- **Query 1**\n",
       "\n",
       "Obtener el ID, trayecto, precio y escalas de vuelos con 3 o más escalas.\n"
      ],
      "text/plain": [
       "<IPython.core.display.Markdown object>"
      ]
     },
     "metadata": {},
     "output_type": "display_data"
    }
   ],
   "source": [
    "md(f\"\"\"\n",
    "- **Query 1**\n",
    "\n",
    "Obtener el ID, trayecto, precio y escalas de vuelos con {MIN_STOPS} o más escalas.\n",
    "\"\"\")"
   ]
  },
  {
   "cell_type": "code",
   "execution_count": 5,
   "metadata": {},
   "outputs": [],
   "source": [
    "def query1(itineraries: pl.DataFrame, min_stops: int = MIN_STOPS):\n",
    "    print(f\"Query 1: {min_stops} stops\")\n",
    "    return (\n",
    "        itineraries.pipe(filter_by_stops, min_stops)\n",
    "        .pipe(add_stops_codes)\n",
    "        .select(\n",
    "            [\n",
    "                \"legId\",\n",
    "                \"startingAirport\",\n",
    "                \"destinationAirport\",\n",
    "                \"totalFare\",\n",
    "                \"stopsAirportCode\",\n",
    "            ]\n",
    "        )\n",
    "    )"
   ]
  },
  {
   "cell_type": "code",
   "execution_count": 6,
   "metadata": {},
   "outputs": [
    {
     "name": "stdout",
     "output_type": "stream",
     "text": [
      "Rows in dataset: 969861 (1.18%)\n"
     ]
    },
    {
     "name": "stdout",
     "output_type": "stream",
     "text": [
      "Query 1: 3 stops\n"
     ]
    }
   ],
   "source": [
    "dump_query(query1, dataset_size=100)"
   ]
  },
  {
   "cell_type": "code",
   "execution_count": 7,
   "metadata": {},
   "outputs": [
    {
     "data": {
      "text/markdown": [
       "\n",
       "- **Query 2**\n",
       "\n",
       "Obtener el ID y trayecto de vuelos cuya deistancia total\n",
       "sea mayor al doble de la distancia directa entre puntos\n",
       "origen-destino.\n"
      ],
      "text/plain": [
       "<IPython.core.display.Markdown object>"
      ]
     },
     "metadata": {},
     "output_type": "display_data"
    }
   ],
   "source": [
    "md(\n",
    "    f\"\"\"\n",
    "- **Query 2**\n",
    "\n",
    "Obtener el ID y trayecto de vuelos cuya deistancia total\n",
    "sea mayor al doble de la distancia directa entre puntos\n",
    "origen-destino.\n",
    "\"\"\"\n",
    ")"
   ]
  },
  {
   "cell_type": "code",
   "execution_count": 18,
   "metadata": {},
   "outputs": [],
   "source": [
    "def query2(itineraries: pl.DataFrame):\n",
    "    def calculate_distance(row: pl.Struct):\n",
    "        lat_start = row[\"Latitude_start\"]\n",
    "        lon_start = row[\"Longitude_start\"]\n",
    "        lat_dest = row[\"Latitude_dest\"]\n",
    "        lon_dest = row[\"Longitude_dest\"]\n",
    "        return geodesic_distance(\n",
    "            (lat_start, lon_start), (lat_dest, lon_dest)\n",
    "        ).miles\n",
    "\n",
    "    airports_tmp = pl.scan_csv(\"airports-codepublic.csv\", separator=\";\").select(\n",
    "        [\"Airport Code\", \"Latitude\", \"Longitude\"]\n",
    "    )\n",
    "    return (\n",
    "        itineraries.join(\n",
    "            airports_tmp,\n",
    "            left_on=\"startingAirport\",\n",
    "            right_on=\"Airport Code\",\n",
    "            how=\"inner\",\n",
    "            suffix=\"_start\",\n",
    "        )\n",
    "        .with_columns(\n",
    "            pl.col(\"Latitude\").alias(\"Latitude_start\"),\n",
    "            pl.col(\"Longitude\").alias(\"Longitude_start\"),\n",
    "        )\n",
    "        .join(\n",
    "            airports_tmp,\n",
    "            left_on=\"destinationAirport\",\n",
    "            right_on=\"Airport Code\",\n",
    "            how=\"inner\",\n",
    "            suffix=\"_dest\",\n",
    "        )\n",
    "        .with_columns(\n",
    "            pl.struct(\n",
    "                [\n",
    "                    \"Latitude_start\",\n",
    "                    \"Longitude_start\",\n",
    "                    \"Latitude_dest\",\n",
    "                    \"Longitude_dest\",\n",
    "                ]\n",
    "            )\n",
    "            .map_elements(calculate_distance, return_dtype=float)\n",
    "            .alias(\"distance\")\n",
    "        )\n",
    "        .filter(pl.col(\"distance\") * 4 < pl.col(\"totalTravelDistance\"))\n",
    "        .select([\"legId\", \"startingAirport\", \"destinationAirport\"])\n",
    "    )"
   ]
  },
  {
   "cell_type": "code",
   "execution_count": 20,
   "metadata": {},
   "outputs": [
    {
     "name": "stdout",
     "output_type": "stream",
     "text": [
      "Rows in dataset: 484930 (0.59%)\n"
     ]
    }
   ],
   "source": [
    "dump_query(query2, dataset_size=50)"
   ]
  },
  {
   "cell_type": "code",
   "execution_count": 15,
   "metadata": {},
   "outputs": [
    {
     "data": {
      "text/markdown": [
       "- Query 3\n",
       "\n",
       "Obtener el ID, trayecto, escalas y duración para los 2 vuelos\n",
       "de cada trayecto con menor duración entre todos los vuelos de\n",
       "3 escalas o más.\n"
      ],
      "text/plain": [
       "<IPython.core.display.Markdown object>"
      ]
     },
     "metadata": {},
     "output_type": "display_data"
    }
   ],
   "source": [
    "md(f\"\"\"- Query 3\n",
    "\n",
    "Obtener el ID, trayecto, escalas y duración para los 2 vuelos\n",
    "de cada trayecto con menor duración entre todos los vuelos de\n",
    "{MIN_STOPS} escalas o más.\n",
    "\"\"\")"
   ]
  },
  {
   "cell_type": "code",
   "execution_count": 16,
   "metadata": {},
   "outputs": [],
   "source": [
    "def query3(itineraries: pl.DataFrame, min_stops: int = MIN_STOPS):\n",
    "    return (\n",
    "        itineraries.pipe(filter_by_stops, min_stops)\n",
    "        .pipe(add_stops_codes)\n",
    "        .select(  # try commenting this line\n",
    "            [\n",
    "                \"legId\",\n",
    "                \"startingAirport\",\n",
    "                \"destinationAirport\",\n",
    "                \"travelDuration\",\n",
    "                \"stopsAirportCode\",\n",
    "            ]\n",
    "        )\n",
    "        .group_by([\"startingAirport\", \"destinationAirport\"])\n",
    "        .agg([pl.min(\"travelDuration\")])\n",
    "    )"
   ]
  },
  {
   "cell_type": "code",
   "execution_count": 53,
   "metadata": {},
   "outputs": [
    {
     "data": {
      "text/html": [
       "<div><style>\n",
       ".dataframe > thead > tr > th,\n",
       ".dataframe > tbody > tr > td {\n",
       "  text-align: right;\n",
       "  white-space: pre-wrap;\n",
       "}\n",
       "</style>\n",
       "<small>shape: (0, 3)</small><table border=\"1\" class=\"dataframe\"><thead><tr><th>startingAirport</th><th>destinationAirport</th><th>travelDuration</th></tr><tr><td>str</td><td>str</td><td>str</td></tr></thead><tbody></tbody></table></div>"
      ],
      "text/plain": [
       "shape: (0, 3)\n",
       "┌─────────────────┬────────────────────┬────────────────┐\n",
       "│ startingAirport ┆ destinationAirport ┆ travelDuration │\n",
       "│ ---             ┆ ---                ┆ ---            │\n",
       "│ str             ┆ str                ┆ str            │\n",
       "╞═════════════════╪════════════════════╪════════════════╡\n",
       "└─────────────────┴────────────────────┴────────────────┘"
      ]
     },
     "execution_count": 53,
     "metadata": {},
     "output_type": "execute_result"
    }
   ],
   "source": [
    "res = collect_query(query3, dataset_size=10)\n",
    "res.write_csv(\"query3.csv\")\n",
    "res"
   ]
  },
  {
   "cell_type": "code",
   "execution_count": null,
   "metadata": {},
   "outputs": [],
   "source": [
    "md(f\"\"\"- Query 4\n",
    "\n",
    "El precio promedio y máximo trayecto de los\n",
    "vuelos con precio mayor a la media general de precios.\n",
    "\"\"\")"
   ]
  },
  {
   "cell_type": "code",
   "execution_count": 22,
   "metadata": {},
   "outputs": [],
   "source": [
    "def query4(itineraries: pl.DataFrame):\n",
    "    return (\n",
    "        itineraries.select(\n",
    "            [\"startingAirport\", \"destinationAirport\", \"totalFare\"]\n",
    "        )\n",
    "        .filter(pl.col(\"totalFare\") > pl.col(\"totalFare\").mean())\n",
    "        .group_by([\"startingAirport\", \"destinationAirport\"])\n",
    "        .agg(\n",
    "            pl.col(\"totalFare\").mean().alias(\"mean_price\"),\n",
    "            pl.col(\"totalFare\").max().alias(\"max_price\"),\n",
    "        )\n",
    "    )"
   ]
  },
  {
   "cell_type": "code",
   "execution_count": 24,
   "metadata": {},
   "outputs": [
    {
     "name": "stdout",
     "output_type": "stream",
     "text": [
      "Rows in dataset: 96986 (0.12%)\n"
     ]
    },
    {
     "data": {
      "text/html": [
       "<div><style>\n",
       ".dataframe > thead > tr > th,\n",
       ".dataframe > tbody > tr > td {\n",
       "  text-align: right;\n",
       "  white-space: pre-wrap;\n",
       "}\n",
       "</style>\n",
       "<small>shape: (5, 4)</small><table border=\"1\" class=\"dataframe\"><thead><tr><th>startingAirport</th><th>destinationAirport</th><th>mean_price</th><th>max_price</th></tr><tr><td>str</td><td>str</td><td>f64</td><td>f64</td></tr></thead><tbody><tr><td>&quot;ORD&quot;</td><td>&quot;SFO&quot;</td><td>561.52433</td><td>2233.61</td></tr><tr><td>&quot;OAK&quot;</td><td>&quot;LAX&quot;</td><td>555.759172</td><td>1075.51</td></tr><tr><td>&quot;ORD&quot;</td><td>&quot;PHL&quot;</td><td>551.964416</td><td>1015.6</td></tr><tr><td>&quot;EWR&quot;</td><td>&quot;OAK&quot;</td><td>612.419714</td><td>1241.6</td></tr><tr><td>&quot;DTW&quot;</td><td>&quot;LGA&quot;</td><td>459.39375</td><td>648.61</td></tr></tbody></table></div>"
      ],
      "text/plain": [
       "shape: (5, 4)\n",
       "┌─────────────────┬────────────────────┬────────────┬───────────┐\n",
       "│ startingAirport ┆ destinationAirport ┆ mean_price ┆ max_price │\n",
       "│ ---             ┆ ---                ┆ ---        ┆ ---       │\n",
       "│ str             ┆ str                ┆ f64        ┆ f64       │\n",
       "╞═════════════════╪════════════════════╪════════════╪═══════════╡\n",
       "│ ORD             ┆ SFO                ┆ 561.52433  ┆ 2233.61   │\n",
       "│ OAK             ┆ LAX                ┆ 555.759172 ┆ 1075.51   │\n",
       "│ ORD             ┆ PHL                ┆ 551.964416 ┆ 1015.6    │\n",
       "│ EWR             ┆ OAK                ┆ 612.419714 ┆ 1241.6    │\n",
       "│ DTW             ┆ LGA                ┆ 459.39375  ┆ 648.61    │\n",
       "└─────────────────┴────────────────────┴────────────┴───────────┘"
      ]
     },
     "execution_count": 24,
     "metadata": {},
     "output_type": "execute_result"
    }
   ],
   "source": [
    "res = collect_query(query4, dataset_size=10)\n",
    "res.write_csv(\"query4.csv\")\n",
    "res.head(5)"
   ]
  },
  {
   "cell_type": "code",
   "execution_count": null,
   "metadata": {},
   "outputs": [],
   "source": []
  }
 ],
 "metadata": {
  "kernelspec": {
   "display_name": ".venv",
   "language": "python",
   "name": "python3"
  },
  "language_info": {
   "codemirror_mode": {
    "name": "ipython",
    "version": 3
   },
   "file_extension": ".py",
   "mimetype": "text/x-python",
   "name": "python",
   "nbconvert_exporter": "python",
   "pygments_lexer": "ipython3",
   "version": "3.10.8"
  },
  "orig_nbformat": 4
 },
 "nbformat": 4,
 "nbformat_minor": 2
}
